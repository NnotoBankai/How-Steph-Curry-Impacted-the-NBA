{
 "cells": [
  {
   "cell_type": "code",
   "execution_count": 3,
   "id": "54d6357d-4583-4c1d-8e33-db42191fb885",
   "metadata": {
    "tags": []
   },
   "outputs": [],
   "source": [
    "# Import necessary libraries\n",
    "import pandas as pd\n",
    "import numpy as np"
   ]
  },
  {
   "cell_type": "markdown",
   "id": "85be9dd7-aa55-4515-8904-2c3448d12d45",
   "metadata": {},
   "source": [
    "## Load Dataset"
   ]
  },
  {
   "cell_type": "code",
   "execution_count": 8,
   "id": "30ad5125-58ac-478b-98ac-a4121a70921b",
   "metadata": {
    "tags": []
   },
   "outputs": [
    {
     "name": "stderr",
     "output_type": "stream",
     "text": [
      "/var/folders/4h/z0_vz5_s3kg8kx5jd85f4rhh0000gn/T/ipykernel_10498/3025818204.py:3: DtypeWarning: Columns (31) have mixed types. Specify dtype option on import or set low_memory=False.\n",
      "  df = pd.read_csv(file_path)\n"
     ]
    }
   ],
   "source": [
    "# Load dataset\n",
    "file_path = '/Users/nicholasnoto/Desktop/merged_nba_data.csv'\n",
    "df = pd.read_csv(file_path)"
   ]
  },
  {
   "cell_type": "code",
   "execution_count": 10,
   "id": "ba0756d9-e278-49a5-b6c8-bf94f48af2ca",
   "metadata": {
    "tags": []
   },
   "outputs": [
    {
     "name": "stdout",
     "output_type": "stream",
     "text": [
      "Dataset Info Before Cleaning:\n",
      "<class 'pandas.core.frame.DataFrame'>\n",
      "RangeIndex: 29146 entries, 0 to 29145\n",
      "Data columns (total 32 columns):\n",
      " #   Column  Non-Null Count  Dtype  \n",
      "---  ------  --------------  -----  \n",
      " 0   Rk      29146 non-null  int64  \n",
      " 1   Player  29146 non-null  object \n",
      " 2   Pos     29146 non-null  object \n",
      " 3   Age     29146 non-null  int64  \n",
      " 4   Tm      29146 non-null  object \n",
      " 5   G       29146 non-null  int64  \n",
      " 6   GS      29146 non-null  int64  \n",
      " 7   MP      29146 non-null  float64\n",
      " 8   FG      29146 non-null  float64\n",
      " 9   FGA     29146 non-null  float64\n",
      " 10  FG%     28970 non-null  float64\n",
      " 11  3P      29146 non-null  float64\n",
      " 12  3PA     29146 non-null  float64\n",
      " 13  3P%     24750 non-null  float64\n",
      " 14  2P      29146 non-null  float64\n",
      " 15  2PA     29146 non-null  float64\n",
      " 16  2P%     28838 non-null  float64\n",
      " 17  eFG%    28970 non-null  float64\n",
      " 18  FT      29146 non-null  float64\n",
      " 19  FTA     29146 non-null  float64\n",
      " 20  FT%     27648 non-null  float64\n",
      " 21  ORB     29146 non-null  float64\n",
      " 22  DRB     29146 non-null  float64\n",
      " 23  TRB     29146 non-null  float64\n",
      " 24  AST     29146 non-null  float64\n",
      " 25  STL     29146 non-null  float64\n",
      " 26  BLK     29146 non-null  float64\n",
      " 27  TOV     29146 non-null  float64\n",
      " 28  PF      29146 non-null  float64\n",
      " 29  PTS     29146 non-null  float64\n",
      " 30  Season  29146 non-null  object \n",
      " 31  MVP     14573 non-null  object \n",
      "dtypes: float64(23), int64(4), object(5)\n",
      "memory usage: 7.1+ MB\n",
      "None\n"
     ]
    }
   ],
   "source": [
    "# Display basic dataset info\n",
    "print(\"Dataset Info Before Cleaning:\")\n",
    "print(df.info())"
   ]
  },
  {
   "cell_type": "code",
   "execution_count": 12,
   "id": "576960bf-c0f4-48f5-8ed1-86075cdf086b",
   "metadata": {
    "tags": []
   },
   "outputs": [
    {
     "name": "stdout",
     "output_type": "stream",
     "text": [
      "Missing Values Before Cleaning:\n",
      "Rk            0\n",
      "Player        0\n",
      "Pos           0\n",
      "Age           0\n",
      "Tm            0\n",
      "G             0\n",
      "GS            0\n",
      "MP            0\n",
      "FG            0\n",
      "FGA           0\n",
      "FG%         176\n",
      "3P            0\n",
      "3PA           0\n",
      "3P%        4396\n",
      "2P            0\n",
      "2PA           0\n",
      "2P%         308\n",
      "eFG%        176\n",
      "FT            0\n",
      "FTA           0\n",
      "FT%        1498\n",
      "ORB           0\n",
      "DRB           0\n",
      "TRB           0\n",
      "AST           0\n",
      "STL           0\n",
      "BLK           0\n",
      "TOV           0\n",
      "PF            0\n",
      "PTS           0\n",
      "Season        0\n",
      "MVP       14573\n",
      "dtype: int64\n"
     ]
    }
   ],
   "source": [
    "# Display initial missing values\n",
    "print(\"Missing Values Before Cleaning:\")\n",
    "print(df.isnull().sum())"
   ]
  },
  {
   "cell_type": "code",
   "execution_count": 14,
   "id": "60f786c4-2450-4495-bd6e-870363353550",
   "metadata": {
    "tags": []
   },
   "outputs": [],
   "source": [
    "# Fix missing values\n",
    "df[\"FG%\"].fillna(df[\"FG%\"].median(), inplace=True)   # Fill with median\n",
    "df[\"3P%\"].fillna(df[\"3P%\"].median(), inplace=True)   # Fill with median\n",
    "df[\"2P%\"].fillna(df[\"2P%\"].median(), inplace=True)   # Fill with median\n",
    "df[\"eFG%\"].fillna(df[\"eFG%\"].median(), inplace=True) # Fill with median\n",
    "df[\"FT%\"].fillna(df[\"FT%\"].median(), inplace=True)   # Fill with median"
   ]
  },
  {
   "cell_type": "code",
   "execution_count": 16,
   "id": "083e208e-632a-4fa3-a74b-d98e761f9803",
   "metadata": {
    "tags": []
   },
   "outputs": [],
   "source": [
    "# The MVP column may be NaN due to it only applying to some players\n",
    "df[\"MVP\"].fillna(False, inplace=True)  # Assume missing means 'False' (Not MVP)"
   ]
  },
  {
   "cell_type": "code",
   "execution_count": 18,
   "id": "fbc976c5-a369-4a5e-92e5-ae08f4bd8234",
   "metadata": {
    "tags": []
   },
   "outputs": [
    {
     "name": "stdout",
     "output_type": "stream",
     "text": [
      "\n",
      "Missing values after cleaning:\n",
      "Rk        0\n",
      "Player    0\n",
      "Pos       0\n",
      "Age       0\n",
      "Tm        0\n",
      "G         0\n",
      "GS        0\n",
      "MP        0\n",
      "FG        0\n",
      "FGA       0\n",
      "FG%       0\n",
      "3P        0\n",
      "3PA       0\n",
      "3P%       0\n",
      "2P        0\n",
      "2PA       0\n",
      "2P%       0\n",
      "eFG%      0\n",
      "FT        0\n",
      "FTA       0\n",
      "FT%       0\n",
      "ORB       0\n",
      "DRB       0\n",
      "TRB       0\n",
      "AST       0\n",
      "STL       0\n",
      "BLK       0\n",
      "TOV       0\n",
      "PF        0\n",
      "PTS       0\n",
      "Season    0\n",
      "MVP       0\n",
      "dtype: int64\n"
     ]
    }
   ],
   "source": [
    "# Verify that no missing values remain\n",
    "print(\"\\nMissing values after cleaning:\")\n",
    "print(df.isnull().sum())"
   ]
  },
  {
   "cell_type": "code",
   "execution_count": 20,
   "id": "d1be6064-7aad-4dd5-8505-01dab0e28985",
   "metadata": {
    "tags": []
   },
   "outputs": [],
   "source": [
    "# Reformat 'Season' column for Tableau (time series)\n",
    "df[\"Season\"] = df[\"Season\"].astype(str).str[:4]  # Extract the first four characters (year)\n",
    "df[\"Season\"] = pd.to_datetime(df[\"Season\"], format=\"%Y\")  # Convert to Date format"
   ]
  },
  {
   "cell_type": "code",
   "execution_count": 22,
   "id": "bbfd1ec6-1cfa-47e8-bb60-d58ba0290f9d",
   "metadata": {
    "tags": []
   },
   "outputs": [
    {
     "name": "stdout",
     "output_type": "stream",
     "text": [
      "\n",
      "Reformatted Season Column:\n",
      "      Season\n",
      "0 1997-01-01\n",
      "1 1997-01-01\n",
      "2 1997-01-01\n",
      "3 1997-01-01\n",
      "4 1997-01-01\n"
     ]
    }
   ],
   "source": [
    "# Verify the change\n",
    "print(\"\\nReformatted Season Column:\")\n",
    "print(df[[\"Season\"]].head())"
   ]
  },
  {
   "cell_type": "code",
   "execution_count": 29,
   "id": "5a2cd137-0416-43a2-9ee4-7ea50f21a512",
   "metadata": {
    "tags": []
   },
   "outputs": [],
   "source": [
    "# Save the cleaned dataset for Tableau Public\n",
    "cleaned_file_path = \"/Users/nicholasnoto/Desktop/cleaned_merged_nba_data.csv\"\n",
    "df.to_csv(cleaned_file_path, index=False)"
   ]
  },
  {
   "cell_type": "code",
   "execution_count": null,
   "id": "9aed7bfb-d318-494b-8787-ab97987574b7",
   "metadata": {},
   "outputs": [],
   "source": []
  }
 ],
 "metadata": {
  "kernelspec": {
   "display_name": "Python 3 (ipykernel)",
   "language": "python",
   "name": "python3"
  },
  "language_info": {
   "codemirror_mode": {
    "name": "ipython",
    "version": 3
   },
   "file_extension": ".py",
   "mimetype": "text/x-python",
   "name": "python",
   "nbconvert_exporter": "python",
   "pygments_lexer": "ipython3",
   "version": "3.11.7"
  }
 },
 "nbformat": 4,
 "nbformat_minor": 5
}
